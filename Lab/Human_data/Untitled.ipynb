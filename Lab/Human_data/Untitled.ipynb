{
 "cells": [
  {
   "cell_type": "code",
   "execution_count": 1,
   "metadata": {},
   "outputs": [],
   "source": [
    "import pandas as pd\n",
    "import numpy as np\n",
    "import matplotlib.pyplot as plt\n",
    "import seaborn as sns\n",
    "%matplotlib inline"
   ]
  },
  {
   "cell_type": "code",
   "execution_count": 2,
   "metadata": {},
   "outputs": [],
   "source": [
    "df = pd.read_csv(\"train.csv\")"
   ]
  },
  {
   "cell_type": "code",
   "execution_count": 39,
   "metadata": {},
   "outputs": [],
   "source": [
    "df_test = pd.read_csv(\"test.csv\")"
   ]
  },
  {
   "cell_type": "code",
   "execution_count": 3,
   "metadata": {},
   "outputs": [
    {
     "name": "stdout",
     "output_type": "stream",
     "text": [
      "<class 'pandas.core.frame.DataFrame'>\n",
      "RangeIndex: 7352 entries, 0 to 7351\n",
      "Columns: 563 entries, tBodyAcc-mean()-X to Activity\n",
      "dtypes: float64(561), int64(2)\n",
      "memory usage: 31.6 MB\n"
     ]
    }
   ],
   "source": [
    "df.info()"
   ]
  },
  {
   "cell_type": "code",
   "execution_count": 4,
   "metadata": {},
   "outputs": [
    {
     "data": {
      "text/html": [
       "<div>\n",
       "<style scoped>\n",
       "    .dataframe tbody tr th:only-of-type {\n",
       "        vertical-align: middle;\n",
       "    }\n",
       "\n",
       "    .dataframe tbody tr th {\n",
       "        vertical-align: top;\n",
       "    }\n",
       "\n",
       "    .dataframe thead th {\n",
       "        text-align: right;\n",
       "    }\n",
       "</style>\n",
       "<table border=\"1\" class=\"dataframe\">\n",
       "  <thead>\n",
       "    <tr style=\"text-align: right;\">\n",
       "      <th></th>\n",
       "      <th>tBodyAcc-mean()-X</th>\n",
       "      <th>tBodyAcc-mean()-Y</th>\n",
       "      <th>tBodyAcc-mean()-Z</th>\n",
       "      <th>tBodyAcc-std()-X</th>\n",
       "      <th>tBodyAcc-std()-Y</th>\n",
       "      <th>tBodyAcc-std()-Z</th>\n",
       "      <th>tBodyAcc-mad()-X</th>\n",
       "      <th>tBodyAcc-mad()-Y</th>\n",
       "      <th>tBodyAcc-mad()-Z</th>\n",
       "      <th>tBodyAcc-max()-X</th>\n",
       "      <th>...</th>\n",
       "      <th>fBodyBodyGyroJerkMag-kurtosis()</th>\n",
       "      <th>angle(tBodyAccMean,gravity)</th>\n",
       "      <th>angle(tBodyAccJerkMean),gravityMean)</th>\n",
       "      <th>angle(tBodyGyroMean,gravityMean)</th>\n",
       "      <th>angle(tBodyGyroJerkMean,gravityMean)</th>\n",
       "      <th>angle(X,gravityMean)</th>\n",
       "      <th>angle(Y,gravityMean)</th>\n",
       "      <th>angle(Z,gravityMean)</th>\n",
       "      <th>subject</th>\n",
       "      <th>Activity</th>\n",
       "    </tr>\n",
       "  </thead>\n",
       "  <tbody>\n",
       "    <tr>\n",
       "      <th>0</th>\n",
       "      <td>0.288585</td>\n",
       "      <td>-0.020294</td>\n",
       "      <td>-0.132905</td>\n",
       "      <td>-0.995279</td>\n",
       "      <td>-0.983111</td>\n",
       "      <td>-0.913526</td>\n",
       "      <td>-0.995112</td>\n",
       "      <td>-0.983185</td>\n",
       "      <td>-0.923527</td>\n",
       "      <td>-0.934724</td>\n",
       "      <td>...</td>\n",
       "      <td>-0.710304</td>\n",
       "      <td>-0.112754</td>\n",
       "      <td>0.030400</td>\n",
       "      <td>-0.464761</td>\n",
       "      <td>-0.018446</td>\n",
       "      <td>-0.841247</td>\n",
       "      <td>0.179941</td>\n",
       "      <td>-0.058627</td>\n",
       "      <td>1</td>\n",
       "      <td>0</td>\n",
       "    </tr>\n",
       "    <tr>\n",
       "      <th>1</th>\n",
       "      <td>0.278419</td>\n",
       "      <td>-0.016411</td>\n",
       "      <td>-0.123520</td>\n",
       "      <td>-0.998245</td>\n",
       "      <td>-0.975300</td>\n",
       "      <td>-0.960322</td>\n",
       "      <td>-0.998807</td>\n",
       "      <td>-0.974914</td>\n",
       "      <td>-0.957686</td>\n",
       "      <td>-0.943068</td>\n",
       "      <td>...</td>\n",
       "      <td>-0.861499</td>\n",
       "      <td>0.053477</td>\n",
       "      <td>-0.007435</td>\n",
       "      <td>-0.732626</td>\n",
       "      <td>0.703511</td>\n",
       "      <td>-0.844788</td>\n",
       "      <td>0.180289</td>\n",
       "      <td>-0.054317</td>\n",
       "      <td>1</td>\n",
       "      <td>0</td>\n",
       "    </tr>\n",
       "    <tr>\n",
       "      <th>2</th>\n",
       "      <td>0.279653</td>\n",
       "      <td>-0.019467</td>\n",
       "      <td>-0.113462</td>\n",
       "      <td>-0.995380</td>\n",
       "      <td>-0.967187</td>\n",
       "      <td>-0.978944</td>\n",
       "      <td>-0.996520</td>\n",
       "      <td>-0.963668</td>\n",
       "      <td>-0.977469</td>\n",
       "      <td>-0.938692</td>\n",
       "      <td>...</td>\n",
       "      <td>-0.760104</td>\n",
       "      <td>-0.118559</td>\n",
       "      <td>0.177899</td>\n",
       "      <td>0.100699</td>\n",
       "      <td>0.808529</td>\n",
       "      <td>-0.848933</td>\n",
       "      <td>0.180637</td>\n",
       "      <td>-0.049118</td>\n",
       "      <td>1</td>\n",
       "      <td>0</td>\n",
       "    </tr>\n",
       "    <tr>\n",
       "      <th>3</th>\n",
       "      <td>0.279174</td>\n",
       "      <td>-0.026201</td>\n",
       "      <td>-0.123283</td>\n",
       "      <td>-0.996091</td>\n",
       "      <td>-0.983403</td>\n",
       "      <td>-0.990675</td>\n",
       "      <td>-0.997099</td>\n",
       "      <td>-0.982750</td>\n",
       "      <td>-0.989302</td>\n",
       "      <td>-0.938692</td>\n",
       "      <td>...</td>\n",
       "      <td>-0.482845</td>\n",
       "      <td>-0.036788</td>\n",
       "      <td>-0.012892</td>\n",
       "      <td>0.640011</td>\n",
       "      <td>-0.485366</td>\n",
       "      <td>-0.848649</td>\n",
       "      <td>0.181935</td>\n",
       "      <td>-0.047663</td>\n",
       "      <td>1</td>\n",
       "      <td>0</td>\n",
       "    </tr>\n",
       "    <tr>\n",
       "      <th>4</th>\n",
       "      <td>0.276629</td>\n",
       "      <td>-0.016570</td>\n",
       "      <td>-0.115362</td>\n",
       "      <td>-0.998139</td>\n",
       "      <td>-0.980817</td>\n",
       "      <td>-0.990482</td>\n",
       "      <td>-0.998321</td>\n",
       "      <td>-0.979672</td>\n",
       "      <td>-0.990441</td>\n",
       "      <td>-0.942469</td>\n",
       "      <td>...</td>\n",
       "      <td>-0.699205</td>\n",
       "      <td>0.123320</td>\n",
       "      <td>0.122542</td>\n",
       "      <td>0.693578</td>\n",
       "      <td>-0.615971</td>\n",
       "      <td>-0.847865</td>\n",
       "      <td>0.185151</td>\n",
       "      <td>-0.043892</td>\n",
       "      <td>1</td>\n",
       "      <td>0</td>\n",
       "    </tr>\n",
       "  </tbody>\n",
       "</table>\n",
       "<p>5 rows × 563 columns</p>\n",
       "</div>"
      ],
      "text/plain": [
       "   tBodyAcc-mean()-X  tBodyAcc-mean()-Y  tBodyAcc-mean()-Z  tBodyAcc-std()-X  \\\n",
       "0           0.288585          -0.020294          -0.132905         -0.995279   \n",
       "1           0.278419          -0.016411          -0.123520         -0.998245   \n",
       "2           0.279653          -0.019467          -0.113462         -0.995380   \n",
       "3           0.279174          -0.026201          -0.123283         -0.996091   \n",
       "4           0.276629          -0.016570          -0.115362         -0.998139   \n",
       "\n",
       "   tBodyAcc-std()-Y  tBodyAcc-std()-Z  tBodyAcc-mad()-X  tBodyAcc-mad()-Y  \\\n",
       "0         -0.983111         -0.913526         -0.995112         -0.983185   \n",
       "1         -0.975300         -0.960322         -0.998807         -0.974914   \n",
       "2         -0.967187         -0.978944         -0.996520         -0.963668   \n",
       "3         -0.983403         -0.990675         -0.997099         -0.982750   \n",
       "4         -0.980817         -0.990482         -0.998321         -0.979672   \n",
       "\n",
       "   tBodyAcc-mad()-Z  tBodyAcc-max()-X    ...     \\\n",
       "0         -0.923527         -0.934724    ...      \n",
       "1         -0.957686         -0.943068    ...      \n",
       "2         -0.977469         -0.938692    ...      \n",
       "3         -0.989302         -0.938692    ...      \n",
       "4         -0.990441         -0.942469    ...      \n",
       "\n",
       "   fBodyBodyGyroJerkMag-kurtosis()  angle(tBodyAccMean,gravity)  \\\n",
       "0                        -0.710304                    -0.112754   \n",
       "1                        -0.861499                     0.053477   \n",
       "2                        -0.760104                    -0.118559   \n",
       "3                        -0.482845                    -0.036788   \n",
       "4                        -0.699205                     0.123320   \n",
       "\n",
       "   angle(tBodyAccJerkMean),gravityMean)  angle(tBodyGyroMean,gravityMean)  \\\n",
       "0                              0.030400                         -0.464761   \n",
       "1                             -0.007435                         -0.732626   \n",
       "2                              0.177899                          0.100699   \n",
       "3                             -0.012892                          0.640011   \n",
       "4                              0.122542                          0.693578   \n",
       "\n",
       "   angle(tBodyGyroJerkMean,gravityMean)  angle(X,gravityMean)  \\\n",
       "0                             -0.018446             -0.841247   \n",
       "1                              0.703511             -0.844788   \n",
       "2                              0.808529             -0.848933   \n",
       "3                             -0.485366             -0.848649   \n",
       "4                             -0.615971             -0.847865   \n",
       "\n",
       "   angle(Y,gravityMean)  angle(Z,gravityMean)  subject  Activity  \n",
       "0              0.179941             -0.058627        1         0  \n",
       "1              0.180289             -0.054317        1         0  \n",
       "2              0.180637             -0.049118        1         0  \n",
       "3              0.181935             -0.047663        1         0  \n",
       "4              0.185151             -0.043892        1         0  \n",
       "\n",
       "[5 rows x 563 columns]"
      ]
     },
     "execution_count": 4,
     "metadata": {},
     "output_type": "execute_result"
    }
   ],
   "source": [
    "df.head()"
   ]
  },
  {
   "cell_type": "code",
   "execution_count": 5,
   "metadata": {},
   "outputs": [
    {
     "data": {
      "text/plain": [
       "<matplotlib.axes._subplots.AxesSubplot at 0x2cd461b9550>"
      ]
     },
     "execution_count": 5,
     "metadata": {},
     "output_type": "execute_result"
    },
    {
     "data": {
      "image/png": "[encoded data removed]",
      "text/plain": [
       "<Figure size 432x288 with 1 Axes>"
      ]
     },
     "metadata": {},
     "output_type": "display_data"
    }
   ],
   "source": [
    "sns.heatmap(df.isnull(), cmap='viridis', yticklabels=False, cbar=False)"
   ]
  },
  {
   "cell_type": "code",
   "execution_count": 40,
   "metadata": {},
   "outputs": [
    {
     "data": {
      "text/plain": [
       "<matplotlib.axes._subplots.AxesSubplot at 0x2cd47b42fd0>"
      ]
     },
     "execution_count": 40,
     "metadata": {},
     "output_type": "execute_result"
    },
    {
     "data": {
      "image/png": "[encoded data removed]",
      "text/plain": [
       "<Figure size 432x288 with 1 Axes>"
      ]
     },
     "metadata": {},
     "output_type": "display_data"
    }
   ],
   "source": [
    "sns.heatmap(df_test.isnull(), cmap='viridis', yticklabels=False, cbar=False)"
   ]
  },
  {
   "cell_type": "code",
   "execution_count": 6,
   "metadata": {},
   "outputs": [],
   "source": [
    "from sklearn.preprocessing import StandardScaler\n",
    "scaler = StandardScaler()"
   ]
  },
  {
   "cell_type": "code",
   "execution_count": 10,
   "metadata": {},
   "outputs": [
    {
     "data": {
      "text/plain": [
       "StandardScaler(copy=True, with_mean=True, with_std=True)"
      ]
     },
     "execution_count": 10,
     "metadata": {},
     "output_type": "execute_result"
    }
   ],
   "source": [
    "scaler.fit(df.drop(\"Activity\", axis=1))\n",
    "scaled_features = scaler.transform(df.drop(\"Activity\", axis=1))\n",
    "df_feat = pd.DataFrame(scaled_features, columns=df.columns[:-1])"
   ]
  },
  {
   "cell_type": "code",
   "execution_count": 41,
   "metadata": {},
   "outputs": [],
   "source": [
    "scaler_test = StandardScaler()\n",
    "scaler_test.fit(df_test.drop(\"Activity\", axis=1))\n",
    "scaled_features_test = scaler_test.transform(df_test.drop(\"Activity\", axis=1))\n",
    "df_feat_test = pd.DataFrame(scaled_features_test, columns=df_test.columns[:-1])"
   ]
  },
  {
   "cell_type": "code",
   "execution_count": 12,
   "metadata": {},
   "outputs": [],
   "source": []
  },
  {
   "cell_type": "code",
   "execution_count": 13,
   "metadata": {},
   "outputs": [
    {
     "data": {
      "text/html": [
       "<div>\n",
       "<style scoped>\n",
       "    .dataframe tbody tr th:only-of-type {\n",
       "        vertical-align: middle;\n",
       "    }\n",
       "\n",
       "    .dataframe tbody tr th {\n",
       "        vertical-align: top;\n",
       "    }\n",
       "\n",
       "    .dataframe thead th {\n",
       "        text-align: right;\n",
       "    }\n",
       "</style>\n",
       "<table border=\"1\" class=\"dataframe\">\n",
       "  <thead>\n",
       "    <tr style=\"text-align: right;\">\n",
       "      <th></th>\n",
       "      <th>tBodyAcc-mean()-X</th>\n",
       "      <th>tBodyAcc-mean()-Y</th>\n",
       "      <th>tBodyAcc-mean()-Z</th>\n",
       "      <th>tBodyAcc-std()-X</th>\n",
       "      <th>tBodyAcc-std()-Y</th>\n",
       "      <th>tBodyAcc-std()-Z</th>\n",
       "      <th>tBodyAcc-mad()-X</th>\n",
       "      <th>tBodyAcc-mad()-Y</th>\n",
       "      <th>tBodyAcc-mad()-Z</th>\n",
       "      <th>tBodyAcc-max()-X</th>\n",
       "      <th>...</th>\n",
       "      <th>fBodyBodyGyroJerkMag-skewness()</th>\n",
       "      <th>fBodyBodyGyroJerkMag-kurtosis()</th>\n",
       "      <th>angle(tBodyAccMean,gravity)</th>\n",
       "      <th>angle(tBodyAccJerkMean),gravityMean)</th>\n",
       "      <th>angle(tBodyGyroMean,gravityMean)</th>\n",
       "      <th>angle(tBodyGyroJerkMean,gravityMean)</th>\n",
       "      <th>angle(X,gravityMean)</th>\n",
       "      <th>angle(Y,gravityMean)</th>\n",
       "      <th>angle(Z,gravityMean)</th>\n",
       "      <th>subject</th>\n",
       "    </tr>\n",
       "  </thead>\n",
       "  <tbody>\n",
       "    <tr>\n",
       "      <th>0</th>\n",
       "      <td>0.200642</td>\n",
       "      <td>-0.063683</td>\n",
       "      <td>-0.419628</td>\n",
       "      <td>-0.868814</td>\n",
       "      <td>-0.939441</td>\n",
       "      <td>-0.737529</td>\n",
       "      <td>-0.859817</td>\n",
       "      <td>-0.939019</td>\n",
       "      <td>-0.766437</td>\n",
       "      <td>-0.856036</td>\n",
       "      <td>...</td>\n",
       "      <td>0.025960</td>\n",
       "      <td>-0.276399</td>\n",
       "      <td>-0.360603</td>\n",
       "      <td>0.062940</td>\n",
       "      <td>-0.778427</td>\n",
       "      <td>-0.026080</td>\n",
       "      <td>-0.687219</td>\n",
       "      <td>0.407946</td>\n",
       "      <td>-0.007568</td>\n",
       "      <td>-1.828851</td>\n",
       "    </tr>\n",
       "    <tr>\n",
       "      <th>1</th>\n",
       "      <td>0.055948</td>\n",
       "      <td>0.031486</td>\n",
       "      <td>-0.253908</td>\n",
       "      <td>-0.875426</td>\n",
       "      <td>-0.923902</td>\n",
       "      <td>-0.849304</td>\n",
       "      <td>-0.868531</td>\n",
       "      <td>-0.921998</td>\n",
       "      <td>-0.848928</td>\n",
       "      <td>-0.871359</td>\n",
       "      <td>...</td>\n",
       "      <td>-0.897357</td>\n",
       "      <td>-0.767990</td>\n",
       "      <td>0.133011</td>\n",
       "      <td>-0.021461</td>\n",
       "      <td>-1.218805</td>\n",
       "      <td>1.484470</td>\n",
       "      <td>-0.694138</td>\n",
       "      <td>0.409117</td>\n",
       "      <td>0.007875</td>\n",
       "      <td>-1.828851</td>\n",
       "    </tr>\n",
       "    <tr>\n",
       "      <th>2</th>\n",
       "      <td>0.073515</td>\n",
       "      <td>-0.043416</td>\n",
       "      <td>-0.076295</td>\n",
       "      <td>-0.869039</td>\n",
       "      <td>-0.907760</td>\n",
       "      <td>-0.893785</td>\n",
       "      <td>-0.863137</td>\n",
       "      <td>-0.898854</td>\n",
       "      <td>-0.896701</td>\n",
       "      <td>-0.863323</td>\n",
       "      <td>...</td>\n",
       "      <td>-0.260878</td>\n",
       "      <td>-0.438316</td>\n",
       "      <td>-0.377840</td>\n",
       "      <td>0.391976</td>\n",
       "      <td>0.151207</td>\n",
       "      <td>1.704201</td>\n",
       "      <td>-0.702239</td>\n",
       "      <td>0.410288</td>\n",
       "      <td>0.026502</td>\n",
       "      <td>-1.828851</td>\n",
       "    </tr>\n",
       "    <tr>\n",
       "      <th>3</th>\n",
       "      <td>0.066696</td>\n",
       "      <td>-0.208422</td>\n",
       "      <td>-0.249712</td>\n",
       "      <td>-0.870626</td>\n",
       "      <td>-0.940022</td>\n",
       "      <td>-0.921805</td>\n",
       "      <td>-0.864503</td>\n",
       "      <td>-0.938124</td>\n",
       "      <td>-0.925279</td>\n",
       "      <td>-0.863323</td>\n",
       "      <td>...</td>\n",
       "      <td>0.591045</td>\n",
       "      <td>0.463155</td>\n",
       "      <td>-0.135025</td>\n",
       "      <td>-0.033637</td>\n",
       "      <td>1.037851</td>\n",
       "      <td>-1.003019</td>\n",
       "      <td>-0.701684</td>\n",
       "      <td>0.414650</td>\n",
       "      <td>0.031714</td>\n",
       "      <td>-1.828851</td>\n",
       "    </tr>\n",
       "    <tr>\n",
       "      <th>4</th>\n",
       "      <td>0.030469</td>\n",
       "      <td>0.027587</td>\n",
       "      <td>-0.109848</td>\n",
       "      <td>-0.875188</td>\n",
       "      <td>-0.934878</td>\n",
       "      <td>-0.921343</td>\n",
       "      <td>-0.867384</td>\n",
       "      <td>-0.931789</td>\n",
       "      <td>-0.928028</td>\n",
       "      <td>-0.870260</td>\n",
       "      <td>...</td>\n",
       "      <td>-0.138515</td>\n",
       "      <td>-0.240313</td>\n",
       "      <td>0.340406</td>\n",
       "      <td>0.268486</td>\n",
       "      <td>1.125918</td>\n",
       "      <td>-1.276282</td>\n",
       "      <td>-0.700152</td>\n",
       "      <td>0.425463</td>\n",
       "      <td>0.045225</td>\n",
       "      <td>-1.828851</td>\n",
       "    </tr>\n",
       "  </tbody>\n",
       "</table>\n",
       "<p>5 rows × 562 columns</p>\n",
       "</div>"
      ],
      "text/plain": [
       "   tBodyAcc-mean()-X  tBodyAcc-mean()-Y  tBodyAcc-mean()-Z  tBodyAcc-std()-X  \\\n",
       "0           0.200642          -0.063683          -0.419628         -0.868814   \n",
       "1           0.055948           0.031486          -0.253908         -0.875426   \n",
       "2           0.073515          -0.043416          -0.076295         -0.869039   \n",
       "3           0.066696          -0.208422          -0.249712         -0.870626   \n",
       "4           0.030469           0.027587          -0.109848         -0.875188   \n",
       "\n",
       "   tBodyAcc-std()-Y  tBodyAcc-std()-Z  tBodyAcc-mad()-X  tBodyAcc-mad()-Y  \\\n",
       "0         -0.939441         -0.737529         -0.859817         -0.939019   \n",
       "1         -0.923902         -0.849304         -0.868531         -0.921998   \n",
       "2         -0.907760         -0.893785         -0.863137         -0.898854   \n",
       "3         -0.940022         -0.921805         -0.864503         -0.938124   \n",
       "4         -0.934878         -0.921343         -0.867384         -0.931789   \n",
       "\n",
       "   tBodyAcc-mad()-Z  tBodyAcc-max()-X    ...     \\\n",
       "0         -0.766437         -0.856036    ...      \n",
       "1         -0.848928         -0.871359    ...      \n",
       "2         -0.896701         -0.863323    ...      \n",
       "3         -0.925279         -0.863323    ...      \n",
       "4         -0.928028         -0.870260    ...      \n",
       "\n",
       "   fBodyBodyGyroJerkMag-skewness()  fBodyBodyGyroJerkMag-kurtosis()  \\\n",
       "0                         0.025960                        -0.276399   \n",
       "1                        -0.897357                        -0.767990   \n",
       "2                        -0.260878                        -0.438316   \n",
       "3                         0.591045                         0.463155   \n",
       "4                        -0.138515                        -0.240313   \n",
       "\n",
       "   angle(tBodyAccMean,gravity)  angle(tBodyAccJerkMean),gravityMean)  \\\n",
       "0                    -0.360603                              0.062940   \n",
       "1                     0.133011                             -0.021461   \n",
       "2                    -0.377840                              0.391976   \n",
       "3                    -0.135025                             -0.033637   \n",
       "4                     0.340406                              0.268486   \n",
       "\n",
       "   angle(tBodyGyroMean,gravityMean)  angle(tBodyGyroJerkMean,gravityMean)  \\\n",
       "0                         -0.778427                             -0.026080   \n",
       "1                         -1.218805                              1.484470   \n",
       "2                          0.151207                              1.704201   \n",
       "3                          1.037851                             -1.003019   \n",
       "4                          1.125918                             -1.276282   \n",
       "\n",
       "   angle(X,gravityMean)  angle(Y,gravityMean)  angle(Z,gravityMean)   subject  \n",
       "0             -0.687219              0.407946             -0.007568 -1.828851  \n",
       "1             -0.694138              0.409117              0.007875 -1.828851  \n",
       "2             -0.702239              0.410288              0.026502 -1.828851  \n",
       "3             -0.701684              0.414650              0.031714 -1.828851  \n",
       "4             -0.700152              0.425463              0.045225 -1.828851  \n",
       "\n",
       "[5 rows x 562 columns]"
      ]
     },
     "execution_count": 13,
     "metadata": {},
     "output_type": "execute_result"
    }
   ],
   "source": [
    "df_feat.head()"
   ]
  },
  {
   "cell_type": "code",
   "execution_count": 42,
   "metadata": {},
   "outputs": [
    {
     "data": {
      "text/html": [
       "<div>\n",
       "<style scoped>\n",
       "    .dataframe tbody tr th:only-of-type {\n",
       "        vertical-align: middle;\n",
       "    }\n",
       "\n",
       "    .dataframe tbody tr th {\n",
       "        vertical-align: top;\n",
       "    }\n",
       "\n",
       "    .dataframe thead th {\n",
       "        text-align: right;\n",
       "    }\n",
       "</style>\n",
       "<table border=\"1\" class=\"dataframe\">\n",
       "  <thead>\n",
       "    <tr style=\"text-align: right;\">\n",
       "      <th></th>\n",
       "      <th>tBodyAcc-mean()-X</th>\n",
       "      <th>tBodyAcc-mean()-Y</th>\n",
       "      <th>tBodyAcc-mean()-Z</th>\n",
       "      <th>tBodyAcc-std()-X</th>\n",
       "      <th>tBodyAcc-std()-Y</th>\n",
       "      <th>tBodyAcc-std()-Z</th>\n",
       "      <th>tBodyAcc-mad()-X</th>\n",
       "      <th>tBodyAcc-mad()-Y</th>\n",
       "      <th>tBodyAcc-mad()-Z</th>\n",
       "      <th>tBodyAcc-max()-X</th>\n",
       "      <th>...</th>\n",
       "      <th>fBodyBodyGyroJerkMag-skewness()</th>\n",
       "      <th>fBodyBodyGyroJerkMag-kurtosis()</th>\n",
       "      <th>angle(tBodyAccMean,gravity)</th>\n",
       "      <th>angle(tBodyAccJerkMean),gravityMean)</th>\n",
       "      <th>angle(tBodyGyroMean,gravityMean)</th>\n",
       "      <th>angle(tBodyGyroJerkMean,gravityMean)</th>\n",
       "      <th>angle(X,gravityMean)</th>\n",
       "      <th>angle(Y,gravityMean)</th>\n",
       "      <th>angle(Z,gravityMean)</th>\n",
       "      <th>subject</th>\n",
       "    </tr>\n",
       "  </thead>\n",
       "  <tbody>\n",
       "    <tr>\n",
       "      <th>0</th>\n",
       "      <td>-0.277708</td>\n",
       "      <td>-0.210631</td>\n",
       "      <td>2.193076</td>\n",
       "      <td>-0.787267</td>\n",
       "      <td>-0.833212</td>\n",
       "      <td>-0.093444</td>\n",
       "      <td>-0.808091</td>\n",
       "      <td>-0.839013</td>\n",
       "      <td>-0.104178</td>\n",
       "      <td>-0.824746</td>\n",
       "      <td>...</td>\n",
       "      <td>-0.166391</td>\n",
       "      <td>-0.344765</td>\n",
       "      <td>0.003566</td>\n",
       "      <td>0.357573</td>\n",
       "      <td>-1.363900</td>\n",
       "      <td>0.575487</td>\n",
       "      <td>-0.404790</td>\n",
       "      <td>0.622723</td>\n",
       "      <td>-0.038348</td>\n",
       "      <td>-1.580825</td>\n",
       "    </tr>\n",
       "    <tr>\n",
       "      <th>1</th>\n",
       "      <td>0.198660</td>\n",
       "      <td>0.182591</td>\n",
       "      <td>-0.250264</td>\n",
       "      <td>-0.876984</td>\n",
       "      <td>-0.929061</td>\n",
       "      <td>-0.858050</td>\n",
       "      <td>-0.897145</td>\n",
       "      <td>-0.928949</td>\n",
       "      <td>-0.863269</td>\n",
       "      <td>-0.824746</td>\n",
       "      <td>...</td>\n",
       "      <td>0.491021</td>\n",
       "      <td>0.012257</td>\n",
       "      <td>-0.264092</td>\n",
       "      <td>0.030787</td>\n",
       "      <td>-0.747232</td>\n",
       "      <td>1.871192</td>\n",
       "      <td>-0.361739</td>\n",
       "      <td>0.636731</td>\n",
       "      <td>-0.145709</td>\n",
       "      <td>-1.580825</td>\n",
       "    </tr>\n",
       "    <tr>\n",
       "      <th>2</th>\n",
       "      <td>0.024587</td>\n",
       "      <td>-0.318055</td>\n",
       "      <td>-0.228485</td>\n",
       "      <td>-0.921598</td>\n",
       "      <td>-0.934054</td>\n",
       "      <td>-0.907107</td>\n",
       "      <td>-0.916891</td>\n",
       "      <td>-0.933813</td>\n",
       "      <td>-0.912639</td>\n",
       "      <td>-0.910982</td>\n",
       "      <td>...</td>\n",
       "      <td>0.274821</td>\n",
       "      <td>-0.134989</td>\n",
       "      <td>-0.119671</td>\n",
       "      <td>0.446072</td>\n",
       "      <td>0.037919</td>\n",
       "      <td>0.323938</td>\n",
       "      <td>-0.370932</td>\n",
       "      <td>0.632845</td>\n",
       "      <td>-0.126855</td>\n",
       "      <td>-1.580825</td>\n",
       "    </tr>\n",
       "    <tr>\n",
       "      <th>3</th>\n",
       "      <td>-0.061057</td>\n",
       "      <td>-0.573037</td>\n",
       "      <td>-0.213709</td>\n",
       "      <td>-0.923837</td>\n",
       "      <td>-0.940817</td>\n",
       "      <td>-0.919082</td>\n",
       "      <td>-0.919152</td>\n",
       "      <td>-0.941599</td>\n",
       "      <td>-0.927776</td>\n",
       "      <td>-0.909740</td>\n",
       "      <td>...</td>\n",
       "      <td>-0.210678</td>\n",
       "      <td>-0.441714</td>\n",
       "      <td>-0.066443</td>\n",
       "      <td>0.338512</td>\n",
       "      <td>0.472695</td>\n",
       "      <td>0.625874</td>\n",
       "      <td>-0.363434</td>\n",
       "      <td>0.645276</td>\n",
       "      <td>-0.117585</td>\n",
       "      <td>-1.580825</td>\n",
       "    </tr>\n",
       "    <tr>\n",
       "      <th>4</th>\n",
       "      <td>0.013823</td>\n",
       "      <td>-0.387881</td>\n",
       "      <td>-0.494639</td>\n",
       "      <td>-0.921679</td>\n",
       "      <td>-0.929036</td>\n",
       "      <td>-0.949979</td>\n",
       "      <td>-0.916133</td>\n",
       "      <td>-0.923846</td>\n",
       "      <td>-0.951396</td>\n",
       "      <td>-0.909740</td>\n",
       "      <td>...</td>\n",
       "      <td>-0.810527</td>\n",
       "      <td>-0.796939</td>\n",
       "      <td>-0.022276</td>\n",
       "      <td>-0.098529</td>\n",
       "      <td>1.097348</td>\n",
       "      <td>-0.201999</td>\n",
       "      <td>-0.350256</td>\n",
       "      <td>0.665657</td>\n",
       "      <td>-0.104118</td>\n",
       "      <td>-1.580825</td>\n",
       "    </tr>\n",
       "  </tbody>\n",
       "</table>\n",
       "<p>5 rows × 562 columns</p>\n",
       "</div>"
      ],
      "text/plain": [
       "   tBodyAcc-mean()-X  tBodyAcc-mean()-Y  tBodyAcc-mean()-Z  tBodyAcc-std()-X  \\\n",
       "0          -0.277708          -0.210631           2.193076         -0.787267   \n",
       "1           0.198660           0.182591          -0.250264         -0.876984   \n",
       "2           0.024587          -0.318055          -0.228485         -0.921598   \n",
       "3          -0.061057          -0.573037          -0.213709         -0.923837   \n",
       "4           0.013823          -0.387881          -0.494639         -0.921679   \n",
       "\n",
       "   tBodyAcc-std()-Y  tBodyAcc-std()-Z  tBodyAcc-mad()-X  tBodyAcc-mad()-Y  \\\n",
       "0         -0.833212         -0.093444         -0.808091         -0.839013   \n",
       "1         -0.929061         -0.858050         -0.897145         -0.928949   \n",
       "2         -0.934054         -0.907107         -0.916891         -0.933813   \n",
       "3         -0.940817         -0.919082         -0.919152         -0.941599   \n",
       "4         -0.929036         -0.949979         -0.916133         -0.923846   \n",
       "\n",
       "   tBodyAcc-mad()-Z  tBodyAcc-max()-X    ...     \\\n",
       "0         -0.104178         -0.824746    ...      \n",
       "1         -0.863269         -0.824746    ...      \n",
       "2         -0.912639         -0.910982    ...      \n",
       "3         -0.927776         -0.909740    ...      \n",
       "4         -0.951396         -0.909740    ...      \n",
       "\n",
       "   fBodyBodyGyroJerkMag-skewness()  fBodyBodyGyroJerkMag-kurtosis()  \\\n",
       "0                        -0.166391                        -0.344765   \n",
       "1                         0.491021                         0.012257   \n",
       "2                         0.274821                        -0.134989   \n",
       "3                        -0.210678                        -0.441714   \n",
       "4                        -0.810527                        -0.796939   \n",
       "\n",
       "   angle(tBodyAccMean,gravity)  angle(tBodyAccJerkMean),gravityMean)  \\\n",
       "0                     0.003566                              0.357573   \n",
       "1                    -0.264092                              0.030787   \n",
       "2                    -0.119671                              0.446072   \n",
       "3                    -0.066443                              0.338512   \n",
       "4                    -0.022276                             -0.098529   \n",
       "\n",
       "   angle(tBodyGyroMean,gravityMean)  angle(tBodyGyroJerkMean,gravityMean)  \\\n",
       "0                         -1.363900                              0.575487   \n",
       "1                         -0.747232                              1.871192   \n",
       "2                          0.037919                              0.323938   \n",
       "3                          0.472695                              0.625874   \n",
       "4                          1.097348                             -0.201999   \n",
       "\n",
       "   angle(X,gravityMean)  angle(Y,gravityMean)  angle(Z,gravityMean)   subject  \n",
       "0             -0.404790              0.622723             -0.038348 -1.580825  \n",
       "1             -0.361739              0.636731             -0.145709 -1.580825  \n",
       "2             -0.370932              0.632845             -0.126855 -1.580825  \n",
       "3             -0.363434              0.645276             -0.117585 -1.580825  \n",
       "4             -0.350256              0.665657             -0.104118 -1.580825  \n",
       "\n",
       "[5 rows x 562 columns]"
      ]
     },
     "execution_count": 42,
     "metadata": {},
     "output_type": "execute_result"
    }
   ],
   "source": [
    "df_feat_test.head()"
   ]
  },
  {
   "cell_type": "code",
   "execution_count": 14,
   "metadata": {},
   "outputs": [],
   "source": [
    "X = df_feat\n",
    "y = df['Activity']"
   ]
  },
  {
   "cell_type": "code",
   "execution_count": 43,
   "metadata": {},
   "outputs": [],
   "source": [
    "X_test = df_feat_test\n",
    "y_test = df_test['Activity']"
   ]
  },
  {
   "cell_type": "code",
   "execution_count": 15,
   "metadata": {},
   "outputs": [],
   "source": [
    "# from sklearn.model_selection import train_test_split"
   ]
  },
  {
   "cell_type": "code",
   "execution_count": 16,
   "metadata": {},
   "outputs": [],
   "source": [
    "# X_train, X_test, y_train, y_test = train_test_split(X, y, test_size=0.33, random_state=42)"
   ]
  },
  {
   "cell_type": "code",
   "execution_count": 17,
   "metadata": {},
   "outputs": [],
   "source": [
    "from sklearn.neighbors import KNeighborsClassifier"
   ]
  },
  {
   "cell_type": "code",
   "execution_count": 56,
   "metadata": {},
   "outputs": [],
   "source": [
    "knn = KNeighborsClassifier(n_neighbors = 21)"
   ]
  },
  {
   "cell_type": "code",
   "execution_count": 57,
   "metadata": {},
   "outputs": [
    {
     "data": {
      "text/plain": [
       "KNeighborsClassifier(algorithm='auto', leaf_size=30, metric='minkowski',\n",
       "           metric_params=None, n_jobs=1, n_neighbors=21, p=2,\n",
       "           weights='uniform')"
      ]
     },
     "execution_count": 57,
     "metadata": {},
     "output_type": "execute_result"
    }
   ],
   "source": [
    "knn.fit(X, y)"
   ]
  },
  {
   "cell_type": "code",
   "execution_count": 58,
   "metadata": {},
   "outputs": [],
   "source": [
    "pred = knn.predict(X_test)"
   ]
  },
  {
   "cell_type": "code",
   "execution_count": 59,
   "metadata": {},
   "outputs": [],
   "source": [
    "from sklearn.metrics import confusion_matrix, classification_report"
   ]
  },
  {
   "cell_type": "code",
   "execution_count": 60,
   "metadata": {},
   "outputs": [
    {
     "name": "stdout",
     "output_type": "stream",
     "text": [
      "[[513  19   0   0   0   0]\n",
      " [102 385   3   0   0   1]\n",
      " [ 15  11 511   0   0   0]\n",
      " [  0   0   0 483  11   2]\n",
      " [  0   0   0  45 325  50]\n",
      " [  0   0   0  40   1 430]]\n"
     ]
    }
   ],
   "source": [
    "print(confusion_matrix(y_test, pred))"
   ]
  },
  {
   "cell_type": "code",
   "execution_count": 61,
   "metadata": {},
   "outputs": [
    {
     "name": "stdout",
     "output_type": "stream",
     "text": [
      "             precision    recall  f1-score   support\n",
      "\n",
      "          0       0.81      0.96      0.88       532\n",
      "          1       0.93      0.78      0.85       491\n",
      "          2       0.99      0.95      0.97       537\n",
      "          3       0.85      0.97      0.91       496\n",
      "          4       0.96      0.77      0.86       420\n",
      "          5       0.89      0.91      0.90       471\n",
      "\n",
      "avg / total       0.91      0.90      0.90      2947\n",
      "\n"
     ]
    }
   ],
   "source": [
    "print(classification_report(y_test, pred))"
   ]
  },
  {
   "cell_type": "code",
   "execution_count": 48,
   "metadata": {},
   "outputs": [],
   "source": [
    "error_rate = []\n",
    "for i in range(1,40):\n",
    "    knn = KNeighborsClassifier(n_neighbors = i)\n",
    "    knn.fit(X_train, y_train)\n",
    "    y_pred = knn.predict(X_test)\n",
    "    error_rate.append(np.mean(y_test != y_pred))"
   ]
  },
  {
   "cell_type": "code",
   "execution_count": 49,
   "metadata": {},
   "outputs": [
    {
     "data": {
      "text/plain": [
       "[<matplotlib.lines.Line2D at 0x2cd47ee65c0>]"
      ]
     },
     "execution_count": 49,
     "metadata": {},
     "output_type": "execute_result"
    },
    {
     "data": {
      "image/png": "[encoded data removed]",
      "text/plain": [
       "<Figure size 720x360 with 1 Axes>"
      ]
     },
     "metadata": {},
     "output_type": "display_data"
    }
   ],
   "source": [
    "plt.figure(figsize=(10,5))\n",
    "plt.plot(range(1,40), error_rate, color='blue', marker='o', markerfacecolor='red', markersize=10)"
   ]
  },
  {
   "cell_type": "code",
   "execution_count": null,
   "metadata": {},
   "outputs": [],
   "source": []
  }
 ],
 "metadata": {
  "kernelspec": {
   "display_name": "Python 3",
   "language": "python",
   "name": "python3"
  },
  "language_info": {
   "codemirror_mode": {
    "name": "ipython",
    "version": 3
   },
   "file_extension": ".py",
   "mimetype": "text/x-python",
   "name": "python",
   "nbconvert_exporter": "python",
   "pygments_lexer": "ipython3",
   "version": "3.6.5"
  }
 },
 "nbformat": 4,
 "nbformat_minor": 2
}
