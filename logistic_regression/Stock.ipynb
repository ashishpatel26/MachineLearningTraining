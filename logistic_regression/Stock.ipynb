{
 "cells": [
  {
   "cell_type": "code",
   "execution_count": 1,
   "metadata": {},
   "outputs": [],
   "source": [
    "import numpy as np # linear algebra\n",
    "import pandas as pd # data processing, CSV file I/O (e.g. pd.read_csv)\n"
   ]
  },
  {
   "cell_type": "code",
   "execution_count": 2,
   "metadata": {},
   "outputs": [],
   "source": [
    "df = pd.read_csv(\"stock.csv\", encoding='latin1')"
   ]
  },
  {
   "cell_type": "code",
   "execution_count": 3,
   "metadata": {},
   "outputs": [
    {
     "name": "stdout",
     "output_type": "stream",
     "text": [
      "<class 'pandas.core.frame.DataFrame'>\n",
      "RangeIndex: 456 entries, 0 to 455\n",
      "Data columns (total 5 columns):\n",
      "script       456 non-null object\n",
      "marketcap    456 non-null object\n",
      "quarter      456 non-null object\n",
      "year         456 non-null int64\n",
      "hour         456 non-null int64\n",
      "dtypes: int64(2), object(3)\n",
      "memory usage: 17.9+ KB\n"
     ]
    }
   ],
   "source": [
    "df.info()"
   ]
  },
  {
   "cell_type": "code",
   "execution_count": 4,
   "metadata": {},
   "outputs": [
    {
     "data": {
      "text/html": [
       "<div>\n",
       "<style scoped>\n",
       "    .dataframe tbody tr th:only-of-type {\n",
       "        vertical-align: middle;\n",
       "    }\n",
       "\n",
       "    .dataframe tbody tr th {\n",
       "        vertical-align: top;\n",
       "    }\n",
       "\n",
       "    .dataframe thead th {\n",
       "        text-align: right;\n",
       "    }\n",
       "</style>\n",
       "<table border=\"1\" class=\"dataframe\">\n",
       "  <thead>\n",
       "    <tr style=\"text-align: right;\">\n",
       "      <th></th>\n",
       "      <th>script</th>\n",
       "      <th>marketcap</th>\n",
       "      <th>quarter</th>\n",
       "      <th>year</th>\n",
       "      <th>hour</th>\n",
       "    </tr>\n",
       "  </thead>\n",
       "  <tbody>\n",
       "    <tr>\n",
       "      <th>0</th>\n",
       "      <td>Infosys (INFY) (500209)</td>\n",
       "      <td>Largecap</td>\n",
       "      <td>q2</td>\n",
       "      <td>1800</td>\n",
       "      <td>9</td>\n",
       "    </tr>\n",
       "    <tr>\n",
       "      <th>1</th>\n",
       "      <td>Infosys (INFY) (500209)</td>\n",
       "      <td>Largecap</td>\n",
       "      <td>q3</td>\n",
       "      <td>1801</td>\n",
       "      <td>9</td>\n",
       "    </tr>\n",
       "    <tr>\n",
       "      <th>2</th>\n",
       "      <td>Infosys (INFY) (500209)</td>\n",
       "      <td>Largecap</td>\n",
       "      <td>q4</td>\n",
       "      <td>1802</td>\n",
       "      <td>9</td>\n",
       "    </tr>\n",
       "    <tr>\n",
       "      <th>3</th>\n",
       "      <td>Infosys (INFY) (500209)</td>\n",
       "      <td>Largecap</td>\n",
       "      <td>q1</td>\n",
       "      <td>1803</td>\n",
       "      <td>9</td>\n",
       "    </tr>\n",
       "    <tr>\n",
       "      <th>4</th>\n",
       "      <td>Infosys (INFY) (500209)</td>\n",
       "      <td>Largecap</td>\n",
       "      <td>q2</td>\n",
       "      <td>1804</td>\n",
       "      <td>15</td>\n",
       "    </tr>\n",
       "  </tbody>\n",
       "</table>\n",
       "</div>"
      ],
      "text/plain": [
       "                    script marketcap quarter  year  hour\n",
       "0  Infosys (INFY) (500209)  Largecap      q2  1800     9\n",
       "1  Infosys (INFY) (500209)  Largecap      q3  1801     9\n",
       "2  Infosys (INFY) (500209)  Largecap      q4  1802     9\n",
       "3  Infosys (INFY) (500209)  Largecap      q1  1803     9\n",
       "4  Infosys (INFY) (500209)  Largecap      q2  1804    15"
      ]
     },
     "execution_count": 4,
     "metadata": {},
     "output_type": "execute_result"
    }
   ],
   "source": [
    "df.head()"
   ]
  },
  {
   "cell_type": "code",
   "execution_count": 5,
   "metadata": {},
   "outputs": [],
   "source": [
    "df = pd.get_dummies(columns=['script'], data=df, drop_first=True)\n",
    "df = pd.get_dummies(columns=['marketcap'], data=df, drop_first=True)\n",
    "df = pd.get_dummies(columns=['quarter'], data=df, drop_first=True)"
   ]
  },
  {
   "cell_type": "code",
   "execution_count": 6,
   "metadata": {},
   "outputs": [],
   "source": [
    "hour = df['hour']\n"
   ]
  },
  {
   "cell_type": "code",
   "execution_count": 7,
   "metadata": {},
   "outputs": [],
   "source": [
    "df.drop('hour', axis=1, inplace=True)\n"
   ]
  },
  {
   "cell_type": "code",
   "execution_count": 8,
   "metadata": {},
   "outputs": [],
   "source": [
    "df = pd.concat([df, hour], axis=1)\n"
   ]
  },
  {
   "cell_type": "code",
   "execution_count": 9,
   "metadata": {},
   "outputs": [],
   "source": [
    "X = df.iloc[:,:-1]\n",
    "y = df['hour']\n"
   ]
  },
  {
   "cell_type": "code",
   "execution_count": 10,
   "metadata": {},
   "outputs": [],
   "source": [
    "from sklearn.model_selection import train_test_split\n",
    "X_train, X_test, y_train, y_test = train_test_split(X, y, test_size=0.33, random_state=101)\n",
    "from sklearn.linear_model import LogisticRegression\n",
    "lm = LogisticRegression()\n"
   ]
  },
  {
   "cell_type": "code",
   "execution_count": 11,
   "metadata": {},
   "outputs": [
    {
     "data": {
      "text/html": [
       "<div>\n",
       "<style scoped>\n",
       "    .dataframe tbody tr th:only-of-type {\n",
       "        vertical-align: middle;\n",
       "    }\n",
       "\n",
       "    .dataframe tbody tr th {\n",
       "        vertical-align: top;\n",
       "    }\n",
       "\n",
       "    .dataframe thead th {\n",
       "        text-align: right;\n",
       "    }\n",
       "</style>\n",
       "<table border=\"1\" class=\"dataframe\">\n",
       "  <thead>\n",
       "    <tr style=\"text-align: right;\">\n",
       "      <th></th>\n",
       "      <th>year</th>\n",
       "      <th>quarter_q2</th>\n",
       "      <th>quarter_q3</th>\n",
       "      <th>quarter_q4</th>\n",
       "    </tr>\n",
       "  </thead>\n",
       "  <tbody>\n",
       "    <tr>\n",
       "      <th>269</th>\n",
       "      <td>2069</td>\n",
       "      <td>0</td>\n",
       "      <td>1</td>\n",
       "      <td>0</td>\n",
       "    </tr>\n",
       "    <tr>\n",
       "      <th>296</th>\n",
       "      <td>2096</td>\n",
       "      <td>1</td>\n",
       "      <td>0</td>\n",
       "      <td>0</td>\n",
       "    </tr>\n",
       "    <tr>\n",
       "      <th>227</th>\n",
       "      <td>2027</td>\n",
       "      <td>0</td>\n",
       "      <td>0</td>\n",
       "      <td>0</td>\n",
       "    </tr>\n",
       "    <tr>\n",
       "      <th>289</th>\n",
       "      <td>2089</td>\n",
       "      <td>0</td>\n",
       "      <td>1</td>\n",
       "      <td>0</td>\n",
       "    </tr>\n",
       "    <tr>\n",
       "      <th>45</th>\n",
       "      <td>1845</td>\n",
       "      <td>0</td>\n",
       "      <td>1</td>\n",
       "      <td>0</td>\n",
       "    </tr>\n",
       "  </tbody>\n",
       "</table>\n",
       "</div>"
      ],
      "text/plain": [
       "     year  quarter_q2  quarter_q3  quarter_q4\n",
       "269  2069           0           1           0\n",
       "296  2096           1           0           0\n",
       "227  2027           0           0           0\n",
       "289  2089           0           1           0\n",
       "45   1845           0           1           0"
      ]
     },
     "execution_count": 11,
     "metadata": {},
     "output_type": "execute_result"
    }
   ],
   "source": [
    "X_train.head()"
   ]
  },
  {
   "cell_type": "code",
   "execution_count": 12,
   "metadata": {},
   "outputs": [
    {
     "data": {
      "text/plain": [
       "LogisticRegression(C=1.0, class_weight=None, dual=False, fit_intercept=True,\n",
       "          intercept_scaling=1, max_iter=100, multi_class='ovr', n_jobs=1,\n",
       "          penalty='l2', random_state=None, solver='liblinear', tol=0.0001,\n",
       "          verbose=0, warm_start=False)"
      ]
     },
     "execution_count": 12,
     "metadata": {},
     "output_type": "execute_result"
    }
   ],
   "source": [
    "lm.fit(X_train, y_train)\n"
   ]
  },
  {
   "cell_type": "code",
   "execution_count": 13,
   "metadata": {},
   "outputs": [],
   "source": [
    "pred = lm.predict(X_test)\n"
   ]
  },
  {
   "cell_type": "code",
   "execution_count": 14,
   "metadata": {},
   "outputs": [],
   "source": [
    "from sklearn.metrics import classification_report, confusion_matrix\n"
   ]
  },
  {
   "cell_type": "code",
   "execution_count": 15,
   "metadata": {},
   "outputs": [
    {
     "name": "stdout",
     "output_type": "stream",
     "text": [
      "             precision    recall  f1-score   support\n",
      "\n",
      "          9       0.38      0.07      0.12        83\n",
      "         15       0.45      0.98      0.62        53\n",
      "         16       0.30      0.40      0.34        15\n",
      "\n",
      "avg / total       0.39      0.42      0.32       151\n",
      "\n"
     ]
    }
   ],
   "source": [
    "print(classification_report(y_test, pred))\n"
   ]
  },
  {
   "cell_type": "code",
   "execution_count": 16,
   "metadata": {},
   "outputs": [
    {
     "data": {
      "text/plain": [
       "12     15\n",
       "19      9\n",
       "133    15\n",
       "211     9\n",
       "317    15\n",
       "206    15\n",
       "315     9\n",
       "416     9\n",
       "91      9\n",
       "432     9\n",
       "95     16\n",
       "251     9\n",
       "397    15\n",
       "307     9\n",
       "446    15\n",
       "293    15\n",
       "395     9\n",
       "186     9\n",
       "69     15\n",
       "291     9\n",
       "261    15\n",
       "168     9\n",
       "89      9\n",
       "165    15\n",
       "117    15\n",
       "335    16\n",
       "72      9\n",
       "128     9\n",
       "348    15\n",
       "201     9\n",
       "       ..\n",
       "17      9\n",
       "441     9\n",
       "57      9\n",
       "320     9\n",
       "178     9\n",
       "169     9\n",
       "324    15\n",
       "360     9\n",
       "86     15\n",
       "198    15\n",
       "359    16\n",
       "407    16\n",
       "404    15\n",
       "109    15\n",
       "93     15\n",
       "204    15\n",
       "448     9\n",
       "218     9\n",
       "121     9\n",
       "9       9\n",
       "228    15\n",
       "388    15\n",
       "406    15\n",
       "401     9\n",
       "389    15\n",
       "16      9\n",
       "41      9\n",
       "265     9\n",
       "295    16\n",
       "179     9\n",
       "Name: hour, Length: 151, dtype: int64"
      ]
     },
     "execution_count": 16,
     "metadata": {},
     "output_type": "execute_result"
    }
   ],
   "source": [
    "y_test"
   ]
  },
  {
   "cell_type": "code",
   "execution_count": 17,
   "metadata": {},
   "outputs": [
    {
     "data": {
      "text/plain": [
       "array([15, 15, 15, 15, 15, 15, 15, 15, 15, 15, 16, 15, 15, 15,  9, 15, 15,\n",
       "       16, 15, 15, 15, 15, 15, 15, 15,  9, 15, 15, 15, 15, 16, 15, 16, 16,\n",
       "       16, 15, 15, 16, 15, 16, 15, 16,  9, 15, 15, 15, 15,  9, 15, 16, 15,\n",
       "       15, 16, 15, 15, 15, 15,  9, 15, 15, 15,  9, 15,  9, 15, 15, 15, 15,\n",
       "       16, 15, 15, 15, 15, 15, 15, 15, 15,  9,  9, 15,  9, 15, 16, 15, 15,\n",
       "       15, 15,  9, 15, 15,  9, 15, 15, 15, 15, 15, 15, 15, 16, 15, 15, 15,\n",
       "       15, 15, 15, 15, 15, 15, 16,  9, 16, 15, 15, 16, 15, 15, 16, 15, 15,\n",
       "       15, 15, 15, 15, 15, 15, 16, 15, 15, 15, 15, 15,  9,  9, 15, 15, 15,\n",
       "       15, 15, 16, 15, 15, 15, 15, 15, 15, 15, 15, 15, 15,  9, 15],\n",
       "      dtype=int64)"
      ]
     },
     "execution_count": 17,
     "metadata": {},
     "output_type": "execute_result"
    }
   ],
   "source": [
    "pred"
   ]
  },
  {
   "cell_type": "code",
   "execution_count": null,
   "metadata": {},
   "outputs": [],
   "source": []
  }
 ],
 "metadata": {
  "kernelspec": {
   "display_name": "Python 3",
   "language": "python",
   "name": "python3"
  },
  "language_info": {
   "codemirror_mode": {
    "name": "ipython",
    "version": 3
   },
   "file_extension": ".py",
   "mimetype": "text/x-python",
   "name": "python",
   "nbconvert_exporter": "python",
   "pygments_lexer": "ipython3",
   "version": "3.6.5"
  }
 },
 "nbformat": 4,
 "nbformat_minor": 2
}
